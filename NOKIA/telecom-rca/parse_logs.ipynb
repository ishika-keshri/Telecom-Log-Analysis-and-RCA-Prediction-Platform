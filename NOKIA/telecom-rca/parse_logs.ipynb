{
 "cells": [
  {
   "cell_type": "code",
   "execution_count": 1,
   "id": "e2579d79-0a30-4ad7-b73b-179510821c97",
   "metadata": {},
   "outputs": [
    {
     "name": "stdout",
     "output_type": "stream",
     "text": [
      "Collecting logparser3\n",
      "  Using cached logparser3-1.0.4-py3-none-any.whl.metadata (18 kB)\n",
      "Collecting regex==2022.3.2 (from logparser3)\n",
      "  Using cached regex-2022.3.2.tar.gz (383 kB)\n",
      "  Preparing metadata (setup.py): started\n",
      "  Preparing metadata (setup.py): finished with status 'done'\n",
      "Requirement already satisfied: numpy in c:\\users\\ganes\\anaconda3\\lib\\site-packages (from logparser3) (1.26.4)\n",
      "Requirement already satisfied: pandas in c:\\users\\ganes\\anaconda3\\lib\\site-packages (from logparser3) (2.2.2)\n",
      "Requirement already satisfied: scipy in c:\\users\\ganes\\anaconda3\\lib\\site-packages (from logparser3) (1.13.1)\n",
      "Requirement already satisfied: tqdm in c:\\users\\ganes\\anaconda3\\lib\\site-packages (from logparser3) (4.66.5)\n",
      "Requirement already satisfied: scikit-learn in c:\\users\\ganes\\anaconda3\\lib\\site-packages (from logparser3) (1.5.1)\n",
      "Requirement already satisfied: python-dateutil>=2.8.2 in c:\\users\\ganes\\anaconda3\\lib\\site-packages (from pandas->logparser3) (2.9.0.post0)\n",
      "Requirement already satisfied: pytz>=2020.1 in c:\\users\\ganes\\anaconda3\\lib\\site-packages (from pandas->logparser3) (2024.1)\n",
      "Requirement already satisfied: tzdata>=2022.7 in c:\\users\\ganes\\anaconda3\\lib\\site-packages (from pandas->logparser3) (2023.3)\n",
      "Requirement already satisfied: joblib>=1.2.0 in c:\\users\\ganes\\anaconda3\\lib\\site-packages (from scikit-learn->logparser3) (1.4.2)\n",
      "Requirement already satisfied: threadpoolctl>=3.1.0 in c:\\users\\ganes\\anaconda3\\lib\\site-packages (from scikit-learn->logparser3) (3.5.0)\n",
      "Requirement already satisfied: colorama in c:\\users\\ganes\\anaconda3\\lib\\site-packages (from tqdm->logparser3) (0.4.6)\n",
      "Requirement already satisfied: six>=1.5 in c:\\users\\ganes\\anaconda3\\lib\\site-packages (from python-dateutil>=2.8.2->pandas->logparser3) (1.16.0)\n",
      "Using cached logparser3-1.0.4-py3-none-any.whl (151 kB)\n",
      "Building wheels for collected packages: regex\n",
      "  Building wheel for regex (setup.py): started\n",
      "  Building wheel for regex (setup.py): finished with status 'done'\n",
      "  Created wheel for regex: filename=regex-2022.3.2-cp312-cp312-win_amd64.whl size=260948 sha256=f0fd42dd4581e318f52e799f5bc40b0f89399c0ecb6ef77f136aed24db25589e\n",
      "  Stored in directory: c:\\users\\ganes\\appdata\\local\\pip\\cache\\wheels\\00\\8c\\9c\\0398862b5300c2f4d31b5ea5964e12d6a9bc4fdba5f1a20289\n",
      "Successfully built regex\n",
      "Installing collected packages: regex, logparser3\n",
      "  Attempting uninstall: regex\n",
      "    Found existing installation: regex 2024.11.6\n",
      "    Uninstalling regex-2024.11.6:\n",
      "      Successfully uninstalled regex-2024.11.6\n",
      "Successfully installed logparser3-1.0.4 regex-2022.3.2\n",
      "Note: you may need to restart the kernel to use updated packages.\n"
     ]
    }
   ],
   "source": [
    "pip install logparser3"
   ]
  },
  {
   "cell_type": "code",
   "execution_count": 4,
   "id": "879b2e1c",
   "metadata": {},
   "outputs": [],
   "source": [
    "from logparser import IPLoM"
   ]
  },
  {
   "cell_type": "code",
   "execution_count": 5,
   "id": "c964895c",
   "metadata": {},
   "outputs": [
    {
     "data": {
      "text/plain": [
       "True"
      ]
     },
     "execution_count": 5,
     "metadata": {},
     "output_type": "execute_result"
    }
   ],
   "source": [
    "import os\n",
    "os.path.exists('logs/HDFS.log')"
   ]
  },
  {
   "cell_type": "code",
   "execution_count": 6,
   "id": "47d26c45",
   "metadata": {},
   "outputs": [],
   "source": [
    "# Define parameters\n",
    "input_dir = 'logs/' # The input directory of log file\n",
    "output_dir = 'parsed_logs/'  # The output directory of parsing results\n",
    "log_file = 'HDFS.log'  # The input log file name\n",
    "log_format = '<Date> <Time> <Pid> <Level> <Component>: <Content>'  # HDFS log format\n",
    "maxEventLen = 120  # The maximal token number of log messages (default: 200)\n",
    "step2Support = 0  # The minimal support for creating a new partition (default: 0)\n",
    "CT = 0.35  # The cluster goodness threshold (default: 0.35)\n",
    "lowerBound = 0.25  # The lower bound distance (default: 0.25)\n",
    "upperBound = 0.9  # The upper bound distance (default: 0.9)\n",
    "regex = []  # Regular expression list for optional preprocessing (default: [])"
   ]
  },
  {
   "cell_type": "code",
   "execution_count": 7,
   "id": "867a5b5f",
   "metadata": {},
   "outputs": [
    {
     "name": "stdout",
     "output_type": "stream",
     "text": [
      "Parsing file: logs/HDFS.log\n",
      "Parsing done. [Time taken: 1:19:08.088572]\n"
     ]
    }
   ],
   "source": [
    "log_parser=IPLoM.LogParser(log_format=log_format, indir=input_dir, outdir=output_dir,\n",
    "                         maxEventLen=maxEventLen, step2Support=step2Support, CT=CT,\n",
    "                         lowerBound=lowerBound, upperBound=upperBound, rex=regex)\n",
    "log_parser.parse(log_file)"
   ]
  },
  {
   "cell_type": "code",
   "execution_count": null,
   "id": "6f405b63",
   "metadata": {},
   "outputs": [],
   "source": []
  }
 ],
 "metadata": {
  "kernelspec": {
   "display_name": "Python [conda env:base] *",
   "language": "python",
   "name": "conda-base-py"
  },
  "language_info": {
   "codemirror_mode": {
    "name": "ipython",
    "version": 3
   },
   "file_extension": ".py",
   "mimetype": "text/x-python",
   "name": "python",
   "nbconvert_exporter": "python",
   "pygments_lexer": "ipython3",
   "version": "3.12.3"
  }
 },
 "nbformat": 4,
 "nbformat_minor": 5
}
